{
 "cells": [
  {
   "cell_type": "markdown",
   "id": "490866be",
   "metadata": {},
   "source": [
    "### 0. First Steps\n",
    "\n",
    "- Jupyter notebooks: How does this work, why am I in my browser?\n",
    "- This can be an interactive tutorial: type along, play around or skip to the exercises.\n",
    "- Your first steps start right here"
   ]
  },
  {
   "cell_type": "code",
   "execution_count": null,
   "id": "fdf9952c",
   "metadata": {},
   "outputs": [],
   "source": []
  },
  {
   "cell_type": "code",
   "execution_count": null,
   "id": "9826b997",
   "metadata": {},
   "outputs": [],
   "source": [
    "a = 3\n",
    "b = 2 * a\n",
    "print(a, b, a + b)\n",
    "\n",
    "a = 'Hello'\n",
    "b = 'world!'\n",
    "a + ', ' + b"
   ]
  },
  {
   "cell_type": "markdown",
   "id": "8d9221f3",
   "metadata": {},
   "source": [
    "### 1. Basic operations and types\n",
    "#### 1.1 Typing\n",
    "\n",
    "In python, typing is dynamic. This means that no data type has to be declared when a variable is defined. Also, types are converted automatically:\n",
    "```python \n",
    ": a = 1\n",
    ": b = 2\n",
    ": print(a / b)\n",
    "0.5\n",
    "```\n",
    "\n",
    "In languages where the typing is static, every variable has to be declared with a specific data type:\n",
    "```C\n",
    ": int a = 1;\n",
    ": int b = 2;\n",
    ": int c;\n",
    ": c = a / b;\n",
    ": cout<<c;\n",
    "0\n",
    "```"
   ]
  },
  {
   "cell_type": "code",
   "execution_count": null,
   "id": "9b961983",
   "metadata": {},
   "outputs": [],
   "source": []
  },
  {
   "cell_type": "markdown",
   "id": "c18299e0",
   "metadata": {},
   "source": [
    "#### 1.2 Containers: Lists, tuples, strings"
   ]
  },
  {
   "cell_type": "markdown",
   "id": "c0ab45cc",
   "metadata": {},
   "source": [
    "#### `list`"
   ]
  },
  {
   "cell_type": "code",
   "execution_count": null,
   "id": "daad21fb",
   "metadata": {},
   "outputs": [],
   "source": []
  },
  {
   "cell_type": "code",
   "execution_count": null,
   "id": "39d27eca",
   "metadata": {},
   "outputs": [],
   "source": [
    "colors[0:2], colors[2:-2], colors[:], colors[3:], colors[:3], colors[0:5:2], colors[::2], colors[::-1]"
   ]
  },
  {
   "cell_type": "code",
   "execution_count": null,
   "id": "4b2e9207",
   "metadata": {},
   "outputs": [],
   "source": []
  },
  {
   "cell_type": "markdown",
   "id": "5688fc56",
   "metadata": {},
   "source": [
    "Similar to a `bash`-shell, you can hit TAB to display a list for tab-completion. There are many more `list`-methods outside of `append()`"
   ]
  },
  {
   "cell_type": "code",
   "execution_count": null,
   "id": "767885bf",
   "metadata": {},
   "outputs": [],
   "source": []
  },
  {
   "cell_type": "markdown",
   "id": "7f39a957",
   "metadata": {},
   "source": [
    "#### `tuple`\n",
    "Tuples are immutable lists. They can not be modified after declaration. Rule of thumb: Unless you have to modify your list after declaration, always use `tuple`."
   ]
  },
  {
   "cell_type": "code",
   "execution_count": null,
   "id": "047ebe43",
   "metadata": {},
   "outputs": [],
   "source": [
    "numbers = [1, 2, 3]\n",
    "a = numbers\n",
    "print(numbers, a)\n",
    "\n",
    "a[0] = 100\n",
    "print(a[0])\n",
    "print(a)\n",
    "\n",
    "print(numbers)"
   ]
  },
  {
   "cell_type": "code",
   "execution_count": null,
   "id": "c72f4bd7",
   "metadata": {},
   "outputs": [],
   "source": [
    "numbers = (1, 2, 3)\n",
    "a = numbers\n",
    "print(numbers, a)\n",
    "\n",
    "a[0] = 100\n",
    "print(numbers[0])"
   ]
  },
  {
   "cell_type": "code",
   "execution_count": null,
   "id": "82562fc9",
   "metadata": {},
   "outputs": [],
   "source": [
    "numbers = [1, 2, 3]\n",
    "a = numbers.copy()\n",
    "print(numbers, a)\n",
    "\n",
    "a[0] = 100\n",
    "print(a[0])\n",
    "print(a)\n",
    "\n",
    "print(numbers)"
   ]
  },
  {
   "cell_type": "markdown",
   "id": "f7fed08a",
   "metadata": {},
   "source": [
    "#### `string`\n",
    "Strings are immutable lists of characters, therefore they are essentially tuples:"
   ]
  },
  {
   "cell_type": "code",
   "execution_count": null,
   "id": "1641e3ba",
   "metadata": {},
   "outputs": [],
   "source": []
  },
  {
   "cell_type": "markdown",
   "id": "38b4d961",
   "metadata": {},
   "source": [
    "Again, strings come with many useful methods. With `s.` and hitting TAB, you can have a look at all of them."
   ]
  },
  {
   "cell_type": "code",
   "execution_count": null,
   "id": "24f65cd4",
   "metadata": {},
   "outputs": [],
   "source": [
    "s.upper?"
   ]
  },
  {
   "cell_type": "markdown",
   "id": "62667d93",
   "metadata": {},
   "source": [
    "### 2. Conditional expressions"
   ]
  },
  {
   "cell_type": "markdown",
   "id": "19e9416a",
   "metadata": {},
   "source": [
    "#### 2.1 `if`, `else` and `True`, `False`"
   ]
  },
  {
   "cell_type": "code",
   "execution_count": null,
   "id": "714ea03d",
   "metadata": {},
   "outputs": [],
   "source": []
  },
  {
   "cell_type": "code",
   "execution_count": null,
   "id": "fab4824e",
   "metadata": {},
   "outputs": [],
   "source": [
    "a = 6 == 6\n",
    "b = 10 != 6\n",
    "print(a, b)\n",
    "\n",
    "if a and b:\n",
    "    print('AND: both have to be true')\n",
    "\n",
    "b = False\n",
    "if a or b:\n",
    "    print('OR : only one needs to be true')\n",
    "\n",
    "if not b:\n",
    "    print('NOT: negates the following boolean')"
   ]
  },
  {
   "cell_type": "markdown",
   "id": "196dccec",
   "metadata": {},
   "source": [
    "### 3. Loops"
   ]
  },
  {
   "cell_type": "markdown",
   "id": "b6e40170",
   "metadata": {},
   "source": [
    "#### 3.1 `for` "
   ]
  },
  {
   "cell_type": "code",
   "execution_count": null,
   "id": "9900f87f",
   "metadata": {},
   "outputs": [],
   "source": []
  },
  {
   "cell_type": "code",
   "execution_count": null,
   "id": "a963b328",
   "metadata": {},
   "outputs": [],
   "source": [
    "good_and_evil = ('good', 'evil', 'evil', 'good', 'evil')\n",
    "for alignment in good_and_evil:\n",
    "    if alignment == 'evil':\n",
    "        continue\n",
    "    print(alignment)"
   ]
  },
  {
   "cell_type": "markdown",
   "id": "5d44936a",
   "metadata": {},
   "source": [
    "#### 3.2 `while`"
   ]
  },
  {
   "cell_type": "code",
   "execution_count": null,
   "id": "5fc07d55",
   "metadata": {},
   "outputs": [],
   "source": []
  },
  {
   "cell_type": "code",
   "execution_count": null,
   "id": "0254227e",
   "metadata": {},
   "outputs": [],
   "source": [
    "i = 0\n",
    "while(True):\n",
    "    print(i)\n",
    "    if i == 3:\n",
    "        break\n",
    "        \n",
    "    i = i + 1"
   ]
  },
  {
   "cell_type": "markdown",
   "id": "03bc9f33",
   "metadata": {},
   "source": [
    "### 4. Functions & methods\n",
    "\n",
    "#### 4.1 Functions\n",
    "Mathematically, a function $f$ maps some input $X$ to some output $Y$. \n",
    "\n",
    "\\\\(\n",
    "f:X\\rightarrow Y\n",
    "\\\\)\n",
    "\n",
    "In programming, functions work the same way: They take input (arguments or parameters) and return output.\n",
    "\n",
    "```python\n",
    "def f(X):          # Function definition\n",
    "    return X * 2   # Function return\n",
    "\n",
    "X = 1              # Declaration of input\n",
    "Y = f(X)           # Input is passed, function is called, return value is declared as Y  \n",
    "```"
   ]
  },
  {
   "cell_type": "markdown",
   "id": "bcdbb074",
   "metadata": {},
   "source": [
    "All function parameters are only defined within the functions scope."
   ]
  },
  {
   "cell_type": "code",
   "execution_count": null,
   "id": "4f512b11",
   "metadata": {},
   "outputs": [],
   "source": []
  },
  {
   "cell_type": "markdown",
   "id": "eb993874",
   "metadata": {},
   "source": [
    "A function we know already is the `print()` funtion. It takes, for example, a `str` as input and prints it to the console. It does not return anything."
   ]
  },
  {
   "cell_type": "code",
   "execution_count": null,
   "id": "624e18db",
   "metadata": {},
   "outputs": [],
   "source": []
  },
  {
   "cell_type": "markdown",
   "id": "440a4388",
   "metadata": {},
   "source": [
    "#### 4.2 Methods\n",
    "\n",
    "Methods are another name for functions, that are attached to other objects. They are called using the dot `.` operator."
   ]
  },
  {
   "cell_type": "code",
   "execution_count": null,
   "id": "74a9f3a6",
   "metadata": {},
   "outputs": [],
   "source": []
  },
  {
   "cell_type": "code",
   "execution_count": null,
   "id": "2aeea63f",
   "metadata": {},
   "outputs": [],
   "source": [
    "numbers = [10, 12, 13.7]\n",
    "numbers.append(2)\n",
    "numbers"
   ]
  },
  {
   "cell_type": "markdown",
   "id": "2316d8db",
   "metadata": {},
   "source": [
    "### 5. Scripts and packages\n",
    "\n",
    "#### 5.1 Scripts\n",
    "Scripts make long sequences of commands more easy to handle and often used code reusable. Outside of jupyter notebooks, writing a python script and executing it is the standard workflow when working with python. An example for an editor is PyCharm. Python scripts can be executed using the command line, iPython (which is an interactive command line) or Spyder (combining both editor and command line within one GUI). Jupyter notebooks can be used as a command line tool using magic operators."
   ]
  },
  {
   "cell_type": "code",
   "execution_count": null,
   "id": "6f6dbdca",
   "metadata": {},
   "outputs": [],
   "source": [
    "# To be written in script \"banana.py\"\n",
    "\n",
    "string_variable_1 = 'banana'\n",
    "print(string_variable_1)\n",
    "string_variable_2 = 'yellow_' + string_variable_1\n",
    "print(string_variable_2)"
   ]
  },
  {
   "cell_type": "markdown",
   "id": "61c83d7d",
   "metadata": {},
   "source": [
    "Jupyter notebooks can be converted into scripts, but using `.py` files is more convenient.\n",
    "\n",
    "- Go to your jupyter overview tab (or rerun in your terminal `jupyter notebook`)\n",
    "- Click \"New\" in the top right\n",
    "- Choose \"Text File\" under \"Other\"\n",
    "- Write python commands in the text file, as you did in these cells\n",
    "- Rename the text file (by clicking its name in the top) to `<script>.py`\n",
    "- Run the code in any python shell, for example in the jupyter notebook cell below (via `%run <script>.py`)"
   ]
  },
  {
   "cell_type": "code",
   "execution_count": null,
   "id": "34c10f3c",
   "metadata": {},
   "outputs": [],
   "source": [
    "%run banana.py"
   ]
  },
  {
   "cell_type": "markdown",
   "id": "357a19fe",
   "metadata": {},
   "source": [
    "#### 5.2 Modules and `import`\n",
    "\n",
    "Using modules via `import` is similar to running scripts via `%run`. Using modules organizes the code in a hierarchical way and is therefore mostly superior to scripts especially for larger projects."
   ]
  },
  {
   "cell_type": "code",
   "execution_count": null,
   "id": "4b869efe",
   "metadata": {},
   "outputs": [],
   "source": []
  },
  {
   "cell_type": "code",
   "execution_count": null,
   "id": "197c972a",
   "metadata": {},
   "outputs": [],
   "source": [
    "s = convert_niceprint.convert('bananas apples milk')\n",
    "s"
   ]
  },
  {
   "cell_type": "code",
   "execution_count": null,
   "id": "21f1e219",
   "metadata": {},
   "outputs": [],
   "source": [
    "convert_niceprint.niceprint(s)"
   ]
  },
  {
   "cell_type": "code",
   "execution_count": null,
   "id": "43cc6967",
   "metadata": {},
   "outputs": [],
   "source": [
    "print(convert_niceprint.data_int)"
   ]
  },
  {
   "cell_type": "code",
   "execution_count": null,
   "id": "bacff901",
   "metadata": {},
   "outputs": [],
   "source": [
    "%reset -f\n",
    "from convert_niceprint import *\n",
    "\n",
    "print(s)"
   ]
  },
  {
   "cell_type": "markdown",
   "id": "e13ab5f3",
   "metadata": {},
   "source": [
    "#### 5.3 Packages\n",
    "A package is just a directory that contains multiple modules. python can interpret a directory as a package, if it has a file called `__init__.py`.\n",
    "\n",
    "A lot of the power of python comes from modules and packages. Most general problems have been solved before. Many tools are easily available in packages, written by experts."
   ]
  },
  {
   "cell_type": "code",
   "execution_count": null,
   "id": "0c260e18",
   "metadata": {},
   "outputs": [],
   "source": [
    "import numpy as np\n",
    "\n",
    "help(np)"
   ]
  },
  {
   "cell_type": "markdown",
   "id": "72d7b8be",
   "metadata": {},
   "source": [
    "### 6. Scientific python with `numpy`\n",
    "\n",
    "#### 6.1 `numpy` arrays vs built-in lists\n",
    "Lists are abstract object containers, that can be unintuitive when used with operators. `numpy`-arrays are performant, flexibel and intuitive data containers."
   ]
  },
  {
   "cell_type": "code",
   "execution_count": null,
   "id": "098eb76b",
   "metadata": {},
   "outputs": [],
   "source": []
  },
  {
   "cell_type": "code",
   "execution_count": null,
   "id": "6e346dc9",
   "metadata": {},
   "outputs": [],
   "source": [
    "print(array_of_numbers + 1)\n",
    "print(array_of_numbers - 1)\n",
    "print(2 * array_of_numbers)\n",
    "print(array_of_numbers**2)\n",
    "print(2**array_of_numbers)"
   ]
  },
  {
   "cell_type": "code",
   "execution_count": null,
   "id": "d83d6ca2",
   "metadata": {},
   "outputs": [],
   "source": [
    "b = np.array([-2, -1, 1, 0])\n",
    "\n",
    "print(array_of_numbers + b)\n",
    "print(array_of_numbers - b)\n",
    "print(array_of_numbers * b)\n",
    "print(array_of_numbers / b)"
   ]
  },
  {
   "cell_type": "markdown",
   "id": "cf469212",
   "metadata": {},
   "source": [
    "#### 6.2 Multidimensional arrays\n",
    "\n",
    "`numpy`-arrays allow easy usage of multidimensional data, for example images, or sequences of images."
   ]
  },
  {
   "cell_type": "code",
   "execution_count": null,
   "id": "12ea6826",
   "metadata": {},
   "outputs": [],
   "source": [
    "# 2D:\n",
    "print(\"Tests for manual creation of 2D arrays here:\")\n",
    "a_2d = np.array([[0, 1, 2], \n",
    "                [3, 4, 5]])\n",
    "print(a_2d)\n",
    "print(a_2d.ndim)\n",
    "print(a_2d.shape)\n",
    "print(len(a_2d))\n",
    "\n",
    "# 3D:\n",
    "print(\"\\nTests for manual creation of 3D arrays here:\")\n",
    "a_3d = np.array([[[1, 2], \n",
    "                  [1, 2]], \n",
    "                 [[2, 3], \n",
    "                  [2, 3]]])\n",
    "print(a_3d)\n",
    "print(a_3d.ndim)\n",
    "print(a_3d.shape)\n",
    "print(len(a_3d))"
   ]
  },
  {
   "cell_type": "markdown",
   "id": "493b6608",
   "metadata": {},
   "source": [
    "#### 6.3 Indexing and slicing\n",
    "\n",
    "Recall indexing and slicing using lists. `numpy`-arrays behave similar and enable more complex usage."
   ]
  },
  {
   "cell_type": "code",
   "execution_count": null,
   "id": "c7e1fa05",
   "metadata": {},
   "outputs": [],
   "source": [
    "a = np.arange(10)\n",
    "print(a)\n",
    "print(a[0], a[2], a[-1])\n",
    "print(a[::-1])\n",
    "print(a[:4])\n",
    "print(a[1:3])\n",
    "print(a[3:])\n",
    "\n",
    "# combine slicing and assignment\n",
    "a[5:] = 10.5\n",
    "print(a)\n",
    "b = np.arange(5)\n",
    "print(b)\n",
    "a[5:] = b\n",
    "print(a)"
   ]
  },
  {
   "cell_type": "markdown",
   "id": "63aca858",
   "metadata": {},
   "source": [
    "Instead of slicing (explicitely selecting items within an array) `numpy`-arrays can be used as indices for `numpy`-arrays. This is called fancy indexing"
   ]
  },
  {
   "cell_type": "code",
   "execution_count": null,
   "id": "b7f2d2c5",
   "metadata": {},
   "outputs": [],
   "source": [
    "image = np.array([\n",
    "    [1, 2, 1], \n",
    "    [1, 4, 1], \n",
    "    [1, 2, 1]\n",
    "])\n",
    "\n",
    "image"
   ]
  },
  {
   "cell_type": "code",
   "execution_count": null,
   "id": "a279f312",
   "metadata": {},
   "outputs": [],
   "source": []
  },
  {
   "cell_type": "markdown",
   "id": "6ec8be5c",
   "metadata": {},
   "source": [
    "### 7. Visualization with `matplotlib`\n",
    "\n",
    "Among other packages, `matplotlib` is the most used package for 2D graphics. It allows easy and quick visualization while providing publication-quality figures \"by default\". `pyplot` provides a procedural interface to the matplotlib object-oriented plotting library. It is closely modeled after Matlab.\n",
    "\n",
    "#### 7.1 Simple plots: `plt.plot()`"
   ]
  },
  {
   "cell_type": "code",
   "execution_count": null,
   "id": "59275cf5",
   "metadata": {},
   "outputs": [],
   "source": []
  },
  {
   "cell_type": "markdown",
   "id": "315353c3",
   "metadata": {},
   "source": [
    "#### 7.2 Color and lines"
   ]
  },
  {
   "cell_type": "code",
   "execution_count": null,
   "id": "b284f42f",
   "metadata": {},
   "outputs": [],
   "source": []
  },
  {
   "cell_type": "markdown",
   "id": "acc925bf",
   "metadata": {},
   "source": [
    "#### 7.3 Labels and ticks"
   ]
  },
  {
   "cell_type": "code",
   "execution_count": null,
   "id": "57896434",
   "metadata": {},
   "outputs": [],
   "source": []
  },
  {
   "cell_type": "markdown",
   "id": "2ae71b36",
   "metadata": {},
   "source": [
    "#### 7.4 Figures, subplots and axes"
   ]
  },
  {
   "cell_type": "code",
   "execution_count": null,
   "id": "40d191a7",
   "metadata": {},
   "outputs": [],
   "source": []
  },
  {
   "cell_type": "markdown",
   "id": "c4314cad",
   "metadata": {},
   "source": [
    "#### 7.5 `imshow`"
   ]
  },
  {
   "cell_type": "code",
   "execution_count": null,
   "id": "f9a17f7a",
   "metadata": {},
   "outputs": [],
   "source": []
  },
  {
   "cell_type": "markdown",
   "id": "d6d875b7",
   "metadata": {},
   "source": [
    "### 8. Further reading\n",
    "Strongly advised: [Scipy lecture notes](https://scipy-lectures.org/)"
   ]
  },
  {
   "cell_type": "code",
   "execution_count": null,
   "id": "023279a2",
   "metadata": {},
   "outputs": [],
   "source": []
  }
 ],
 "metadata": {
  "kernelspec": {
   "display_name": "pyTUT",
   "language": "python",
   "name": "pytut"
  },
  "language_info": {
   "codemirror_mode": {
    "name": "ipython",
    "version": 3
   },
   "file_extension": ".py",
   "mimetype": "text/x-python",
   "name": "python",
   "nbconvert_exporter": "python",
   "pygments_lexer": "ipython3",
   "version": "3.9.13"
  }
 },
 "nbformat": 4,
 "nbformat_minor": 5
}
