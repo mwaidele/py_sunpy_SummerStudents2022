{
 "cells": [
  {
   "cell_type": "markdown",
   "id": "878cc48a",
   "metadata": {},
   "source": [
    "### 1. Control flow within a function\n",
    "\n",
    "A [leap year](https://en.wikipedia.org/wiki/Leap_year) contains one additional day and occurs every 4 years. Years that are evenly divisble by 100 are not leap years, except years that are evely divisible by 400 (which are leap years).\n",
    "\n",
    "Write a function `leap_year(n)`, that takes an integer `n` which represents the year, and returns `True` if `n` is a leap year and `False` if not. Test your function with the following years: `1600, 2020, 5, 2015, 2100`"
   ]
  },
  {
   "cell_type": "code",
   "execution_count": null,
   "id": "5cafb015",
   "metadata": {},
   "outputs": [],
   "source": [
    "def leap_year(n):\n",
    "    ..."
   ]
  },
  {
   "cell_type": "markdown",
   "id": "e5e784ca",
   "metadata": {},
   "source": [
    "### 2. Calling a function within a loop\n",
    "\n",
    "Assume you have the three lists `cargo`, `actual` and `nominal` as defined in the cell below. \n",
    "\n",
    "First, write a function `commission` with three arguments `cargo`, `actual` and `nominal` that prints the cargo, determines the difference between actual and nominal values and then prints and returns the result.\n",
    "\n",
    "Now write a `for`-loop, that iterates over the three lists and calls the function in each iteration.\n",
    "\n",
    "Lastly, include a keyword-argument `warn` with the default `False`, that prints a short warning, only if the difference between actual and nominal is greater than 25, and if `warn` is `True`. Then, rerun the loop, with `warn=True`."
   ]
  },
  {
   "cell_type": "code",
   "execution_count": null,
   "id": "0e7b9de2",
   "metadata": {},
   "outputs": [],
   "source": [
    "cargo = ['bananas', 'apples', 'milk']\n",
    "actual = [24, 24, 12]\n",
    "nominal = [4, 52, 0]\n",
    "\n"
   ]
  },
  {
   "cell_type": "markdown",
   "id": "bdcbe15e",
   "metadata": {},
   "source": [
    "### 3. Good practises\n",
    "Have a look at the following code:\n",
    "```python\n",
    "a='melons'; b=0; c=1\n",
    "def f(x):\n",
    "    x=x + 10\n",
    "    return x\n",
    "from numpy import *\n",
    "d=sqrt(f(b))\n",
    "print(d>1)\n",
    "```\n",
    "It defines an actual value of `1` melon, and defines the nominal value as `0`. Then a function is defined that adds `10` to, in this case, the actual value. The `numpy` function `sqrt()` is called after importing it, to calculate the square root of the actual value. Finally, the result is compared to the nominal value.\n",
    "\n",
    "Try to understand the code and modify it to make it more readable and reusable: Replace all variable and function names with meaningful ones and comment the code. Afterwards, compare your new code with the old version above and convince yourself how much more readable the new version is"
   ]
  },
  {
   "cell_type": "code",
   "execution_count": null,
   "id": "c9ef0134",
   "metadata": {},
   "outputs": [],
   "source": []
  },
  {
   "cell_type": "markdown",
   "id": "3d1f2561",
   "metadata": {},
   "source": [
    "### 4. Functional array creation and manipulation\n",
    "\n",
    "Make use of `numpy.array` to create an array `a` and stepwise produce the output listed below. Try not to create `a` explicitely, but try to use `numpy`-functions:\n",
    "1. `print(a)` yields the following output:\n",
    "```\n",
    "[[0. 0. 0. 0. 0.]\n",
    " [0. 1. 1. 1. 0.]\n",
    " [0. 1. 2. 1. 0.]\n",
    " [0. 1. 1. 1. 0.]\n",
    " [0. 0. 0. 0. 0.]]\n",
    "```\n",
    "2. Manipulate `a` such that `print(a)` yields the following output:\n",
    "```\n",
    "[[0. 0. 0. 0. 0.]\n",
    " [0. 3. 3. 3. 0.]\n",
    " [0. 3. 6. 3. 0.]\n",
    " [0. 3. 3. 3. 0.]\n",
    " [0. 0. 0. 0. 0.]]\n",
    "```\n",
    "3. Manipulate `a` further such that `print(a)` yields the following output:\n",
    "```\n",
    "[[0. 0. 0. 0. 0.]\n",
    " [0. 4. 3. 3. 0.]\n",
    " [0. 3. 8. 3. 0.]\n",
    " [0. 3. 3. 6. 0.]\n",
    " [0. 0. 0. 0. 4.]]\n",
    "```\n",
    "4. Manipulate `a` further such that `print(a)` yields the following output:\n",
    "```\n",
    "[[ 0.  0.  0.  0.  0.]\n",
    " [ 0.  4. -3. -3.  0.]\n",
    " [ 0.  3. -8. -3.  0.]\n",
    " [ 0.  3.  3.  6.  0.]\n",
    " [ 0.  0.  0.  0.  4.]]\n",
    "```\n",
    "5. Manipulate `a` further such that `print(a)` yields the following output:\n",
    "```\n",
    "[[ 0.  0.  0.  0.  0.]\n",
    " [ 0.  4.  3.  3.  0.]\n",
    " [ 0. -3. -8.  3.  0.]\n",
    " [ 0. -3. -3.  6.  0.]\n",
    " [ 0.  0.  0.  0.  4.]]\n",
    "```"
   ]
  },
  {
   "cell_type": "code",
   "execution_count": null,
   "id": "8d2fc71a",
   "metadata": {},
   "outputs": [],
   "source": [
    "import numpy as np\n",
    "\n"
   ]
  },
  {
   "cell_type": "markdown",
   "id": "5aabafed",
   "metadata": {},
   "source": [
    "### 5. Converting and plotting coordinates with `sunpy`\n",
    "\n",
    "Take a look at the script below, that transforms coordinates from the Sun's surface into pixel coordinates and then plots them (see `sunpy_instructor.ipynb`). \n",
    "\n",
    "Modify the script to also show coordinate values along the equator."
   ]
  },
  {
   "cell_type": "code",
   "execution_count": null,
   "id": "b1d94cd2",
   "metadata": {},
   "outputs": [],
   "source": [
    "import matplotlib.pyplot as plt\n",
    "import sunpy.map\n",
    "import astropy.units as u\n",
    "from astropy.coordinates import SkyCoord\n",
    "from sunpy.coordinates import frames\n",
    "\n",
    "downloaded_files = ['data/hmi.m_720s.20220101_000000_TAI.3.magnetogram.fits', ]\n",
    "hmi_map = sunpy.map.Map(downloaded_files[0])\n",
    "# hmi_map = hmi_map.rotate(order=3)\n",
    "\n",
    "fig = plt.figure(2, figsize=(15, 8))\n",
    "ax = hmi_map.plot()\n",
    "limb = hmi_map.draw_limb()\n",
    "grid = hmi_map.draw_grid()\n",
    "clb = plt.colorbar()\n",
    "\n",
    "coordinates_text = (r'$0^\\circ$', r'$15^\\circ$', \n",
    "                    r'$30^\\circ$', r'$45^\\circ$')\n",
    "xy_coordinates = ((0, 0), (0, 15), (0, 30), (0, 45))\n",
    "\n",
    "for i, coord in enumerate(coordinates_text):\n",
    "    x, y = xy_coordinates[i]\n",
    "    xy_StonyHurst = SkyCoord(x*u.deg, y*u.deg, \n",
    "                             frame=frames.HeliographicStonyhurst)\n",
    "    xy_HelioProjective = xy_StonyHurst.transform_to(hmi_map.coordinate_frame)\n",
    "    xy_PixelCoordinates = hmi_map.world_to_pixel(xy_HelioProjective)\n",
    "    \n",
    "    ax.axes.text(xy_PixelCoordinates.x.value + 5, \n",
    "                 xy_PixelCoordinates.y.value + 10, \n",
    "                 coordinates_text[i], color='white', \n",
    "                 fontsize=12)"
   ]
  },
  {
   "cell_type": "code",
   "execution_count": null,
   "id": "12e2dc1e",
   "metadata": {},
   "outputs": [],
   "source": []
  }
 ],
 "metadata": {
  "kernelspec": {
   "display_name": "pyTUT",
   "language": "python",
   "name": "pytut"
  },
  "language_info": {
   "codemirror_mode": {
    "name": "ipython",
    "version": 3
   },
   "file_extension": ".py",
   "mimetype": "text/x-python",
   "name": "python",
   "nbconvert_exporter": "python",
   "pygments_lexer": "ipython3",
   "version": "3.9.13"
  }
 },
 "nbformat": 4,
 "nbformat_minor": 5
}
