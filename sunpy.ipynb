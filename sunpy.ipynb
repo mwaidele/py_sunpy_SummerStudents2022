{
 "cells": [
  {
   "cell_type": "markdown",
   "id": "25c60ccc",
   "metadata": {},
   "source": [
    "`sunpy` is a community-developed analysis environment for solar data. It comes with many tools aimed at streamlining data access, management, analysis and visualization.\n",
    "\n",
    "### 1.  Comprehensive base example\n",
    "`sunpy.map` is a high level module that makes plotting the solar disk easy."
   ]
  },
  {
   "cell_type": "code",
   "execution_count": null,
   "id": "a1bb423f",
   "metadata": {},
   "outputs": [],
   "source": []
  },
  {
   "cell_type": "code",
   "execution_count": 3,
   "id": "97bacc32",
   "metadata": {},
   "outputs": [
    {
     "data": {
      "text/plain": [
       "'/home/mwaidele/.local/share/sunpy/AIA20110607_063302_0171_lowres.fits'"
      ]
     },
     "execution_count": 3,
     "metadata": {},
     "output_type": "execute_result"
    }
   ],
   "source": [
    "sunpy.data.sample.AIA_171_IMAGE"
   ]
  },
  {
   "cell_type": "markdown",
   "id": "f516fcf6",
   "metadata": {},
   "source": [
    "### 2. Finding and downloading data with `Fido`\n",
    "For browsing and downloading data, `sunpy` offers a downloader client: `sunpy.net.Fido`"
   ]
  },
  {
   "cell_type": "code",
   "execution_count": null,
   "id": "a21257e8",
   "metadata": {},
   "outputs": [],
   "source": []
  },
  {
   "cell_type": "code",
   "execution_count": 6,
   "id": "fc3b3f43",
   "metadata": {},
   "outputs": [],
   "source": [
    "downloaded_files = ['data/hmi.m_720s.20220101_000000_TAI.3.magnetogram.fits', ]"
   ]
  },
  {
   "cell_type": "code",
   "execution_count": null,
   "id": "3ceac1bb",
   "metadata": {},
   "outputs": [],
   "source": []
  },
  {
   "cell_type": "markdown",
   "id": "8c7aedb8",
   "metadata": {},
   "source": [
    "### 3. Converting and plotting coordinates\n",
    "Dealing with coordinates on the Sun's surface is complex. `sunpy` allows for easy coordinate transformations and this makes plotting easy. For this purpose, `sunpy` relies on `astropy.coordinates`."
   ]
  },
  {
   "cell_type": "code",
   "execution_count": null,
   "id": "1d123b1a",
   "metadata": {},
   "outputs": [],
   "source": []
  }
 ],
 "metadata": {
  "kernelspec": {
   "display_name": "pyTUT",
   "language": "python",
   "name": "pytut"
  },
  "language_info": {
   "codemirror_mode": {
    "name": "ipython",
    "version": 3
   },
   "file_extension": ".py",
   "mimetype": "text/x-python",
   "name": "python",
   "nbconvert_exporter": "python",
   "pygments_lexer": "ipython3",
   "version": "3.9.13"
  }
 },
 "nbformat": 4,
 "nbformat_minor": 5
}
